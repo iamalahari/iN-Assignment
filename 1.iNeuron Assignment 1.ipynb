{
 "cells": [
  {
   "cell_type": "markdown",
   "id": "55f5692d",
   "metadata": {},
   "source": [
    "# Assignment 1"
   ]
  },
  {
   "cell_type": "markdown",
   "id": "93a8018b",
   "metadata": {},
   "source": [
    "## Q1. In the below elements which of them are values or an expression? eg:- values can be integer or string and expressions will be mathematical operators."
   ]
  },
  {
   "cell_type": "markdown",
   "id": "726cb646",
   "metadata": {},
   "source": [
    "1.* -- expression\n",
    "\n",
    "2.hello -- value\n",
    "\n",
    "3.-87.8 -- value\n",
    "\n",
    "4.- -- expression\n",
    "\n",
    "5./ -- expression\n",
    "\n",
    "6.+ -- expression\n",
    "\n",
    "7.6 -- value"
   ]
  },
  {
   "cell_type": "code",
   "execution_count": null,
   "id": "2a149554",
   "metadata": {},
   "outputs": [],
   "source": []
  },
  {
   "cell_type": "markdown",
   "id": "31472c79",
   "metadata": {},
   "source": [
    "## Q2.What is the difference between string and variable?"
   ]
  },
  {
   "cell_type": "markdown",
   "id": "fc536f96",
   "metadata": {},
   "source": [
    "Variables are symbols that you can use to store data in a program i.e a variable is a store of information, and a String is a specific type of data you would store in a Variable."
   ]
  },
  {
   "cell_type": "code",
   "execution_count": null,
   "id": "ff0f860d",
   "metadata": {},
   "outputs": [],
   "source": []
  },
  {
   "cell_type": "markdown",
   "id": "7a34c9f2",
   "metadata": {},
   "source": [
    "## Q3.Describe three different data types."
   ]
  },
  {
   "cell_type": "markdown",
   "id": "dfd0a9d3",
   "metadata": {},
   "source": [
    "1.Numeric --  int, float, complex ---  holds numeric values\n",
    "\n",
    "2.String --  str --- holds sequence of characters\n",
    "\n",
    "3.Sequence --  list, tuple, range --- holds collection of items\n",
    "\n",
    "4.Mapping --  dict ---   holds data in key-value pair form\n",
    "\n",
    "5.Boolean -- bool -- holds either True or False\n",
    "\n",
    "6.Set -- set, frozenset -- hold collection of unique items"
   ]
  },
  {
   "cell_type": "code",
   "execution_count": null,
   "id": "c07ee6f8",
   "metadata": {},
   "outputs": [],
   "source": []
  },
  {
   "cell_type": "markdown",
   "id": "28881303",
   "metadata": {},
   "source": [
    "## Q4.What is an expression made up of? What do all expressions do?"
   ]
  },
  {
   "cell_type": "markdown",
   "id": "a18eb6c6",
   "metadata": {},
   "source": [
    "An Expression combination of operands and operators i,e it is  a combination of values, variables, operators,\n",
    "and calls to function.The expression in Python produces some value /result after being interpreted by the Python interpreter."
   ]
  },
  {
   "cell_type": "code",
   "execution_count": null,
   "id": "ae2276b2",
   "metadata": {},
   "outputs": [],
   "source": []
  },
  {
   "cell_type": "markdown",
   "id": "deaad01c",
   "metadata": {},
   "source": [
    "## Q5. This assignment statements, like spam = 10. What is the difference between an expression and a statement?"
   ]
  },
  {
   "cell_type": "markdown",
   "id": "9f2f90b7",
   "metadata": {},
   "source": [
    " An expression represents a value and a statement represents an operation.An expression is a line of code that evaluates \n",
    " to a value. e.g. 2+3. Where as a statement is an instruction that does something."
   ]
  },
  {
   "cell_type": "code",
   "execution_count": null,
   "id": "381560c3",
   "metadata": {},
   "outputs": [],
   "source": []
  },
  {
   "cell_type": "markdown",
   "id": "528db560",
   "metadata": {},
   "source": [
    "## Q6. After running the following code, what does the variable bacon contain?\n",
    "bacon = 22\n",
    "\n",
    "bacon + 1"
   ]
  },
  {
   "cell_type": "code",
   "execution_count": 1,
   "id": "b77fe460",
   "metadata": {},
   "outputs": [
    {
     "data": {
      "text/plain": [
       "23"
      ]
     },
     "execution_count": 1,
     "metadata": {},
     "output_type": "execute_result"
    }
   ],
   "source": [
    "bacon = 22\n",
    "bacon+1"
   ]
  },
  {
   "cell_type": "markdown",
   "id": "a4077297",
   "metadata": {},
   "source": [
    "### it adds 1 to value stored in variable bacon "
   ]
  },
  {
   "cell_type": "code",
   "execution_count": null,
   "id": "2d374520",
   "metadata": {},
   "outputs": [],
   "source": []
  },
  {
   "cell_type": "markdown",
   "id": "ff1ec58c",
   "metadata": {},
   "source": [
    "## Q7. What should the values of the following two terms be?"
   ]
  },
  {
   "cell_type": "code",
   "execution_count": 4,
   "id": "c2df1bca",
   "metadata": {},
   "outputs": [
    {
     "data": {
      "text/plain": [
       "'spamspamspam'"
      ]
     },
     "execution_count": 4,
     "metadata": {},
     "output_type": "execute_result"
    }
   ],
   "source": [
    "\"spam\"+\"spamspam\"\n"
   ]
  },
  {
   "cell_type": "markdown",
   "id": "8013f390",
   "metadata": {},
   "source": [
    "#### output is addition of two strings,"
   ]
  },
  {
   "cell_type": "code",
   "execution_count": 3,
   "id": "ee2a4ead",
   "metadata": {},
   "outputs": [
    {
     "data": {
      "text/plain": [
       "'spamspamspam'"
      ]
     },
     "execution_count": 3,
     "metadata": {},
     "output_type": "execute_result"
    }
   ],
   "source": [
    "\"spam\"*3"
   ]
  },
  {
   "cell_type": "markdown",
   "id": "b8ff3975",
   "metadata": {},
   "source": [
    "####  Output multipling string by 3 times"
   ]
  },
  {
   "cell_type": "code",
   "execution_count": null,
   "id": "ac79f71c",
   "metadata": {},
   "outputs": [],
   "source": []
  },
  {
   "cell_type": "markdown",
   "id": "8d5f109f",
   "metadata": {},
   "source": [
    "## Q8.8. Why is eggs a valid variable name while 100 is invalid?"
   ]
  },
  {
   "cell_type": "markdown",
   "id": "22d8befc",
   "metadata": {},
   "source": [
    "Because variable name egg is a alphabet and 100 is a number, in python variable cannot begin with number."
   ]
  },
  {
   "cell_type": "code",
   "execution_count": null,
   "id": "a19e646c",
   "metadata": {},
   "outputs": [],
   "source": []
  },
  {
   "cell_type": "markdown",
   "id": "1aa87a32",
   "metadata": {},
   "source": [
    "## Q9.What three functions can be used to get the integer, floating-point number, or string version of a value?"
   ]
  },
  {
   "cell_type": "markdown",
   "id": "5cc36777",
   "metadata": {},
   "source": [
    "The int(), float(), and str() functions will evaluate to the integer, floating-point number,\n",
    "and string versions of the value passed to them."
   ]
  },
  {
   "cell_type": "code",
   "execution_count": null,
   "id": "9dd6aae0",
   "metadata": {},
   "outputs": [],
   "source": []
  },
  {
   "cell_type": "markdown",
   "id": "558e9882",
   "metadata": {},
   "source": [
    "## Q10. Why does this expression cause an error? How can you fix it?"
   ]
  },
  {
   "cell_type": "markdown",
   "id": "47e953d4",
   "metadata": {},
   "source": [
    "'I have eaten ' + 99 + ' burritos.'"
   ]
  },
  {
   "cell_type": "markdown",
   "id": "8bd502e3",
   "metadata": {},
   "source": [
    "The expression causes an error because 99 is an integer, and only strings can be concatenated to other strings with the + operator. The correct way is converting inetezer to sting and then adding up e.g I have eaten ' + str(99) + ' burritos.'."
   ]
  },
  {
   "cell_type": "code",
   "execution_count": 6,
   "id": "f2d58086",
   "metadata": {},
   "outputs": [
    {
     "data": {
      "text/plain": [
       "'I have eaten 99 burritos.'"
      ]
     },
     "execution_count": 6,
     "metadata": {},
     "output_type": "execute_result"
    }
   ],
   "source": [
    "'I have eaten ' + str(99) + ' burritos.'"
   ]
  }
 ],
 "metadata": {
  "kernelspec": {
   "display_name": "Python 3 (ipykernel)",
   "language": "python",
   "name": "python3"
  },
  "language_info": {
   "codemirror_mode": {
    "name": "ipython",
    "version": 3
   },
   "file_extension": ".py",
   "mimetype": "text/x-python",
   "name": "python",
   "nbconvert_exporter": "python",
   "pygments_lexer": "ipython3",
   "version": "3.9.16"
  }
 },
 "nbformat": 4,
 "nbformat_minor": 5
}
