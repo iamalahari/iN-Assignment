{
 "cells": [
  {
   "cell_type": "markdown",
   "metadata": {},
   "source": [
    "# iNeuron Assignment 7"
   ]
  },
  {
   "cell_type": "markdown",
   "metadata": {
    "id": "hRNKxiUCBS1y"
   },
   "source": [
    "**1. Create two int type variables, apply addition, subtraction, division and multiplications\n",
    "and store the results in variables. Then print the data in the following format by calling the\n",
    "variables:**\n",
    "\n",
    "First variable is __ & second variable is __.\n",
    "\n",
    "Addition: __ + __ = __\n",
    "\n",
    "Subtraction: __ - __ = __\n",
    "\n",
    "Multiplication: __ * __ = __\n",
    "\n",
    "Division: __ / __ = __"
   ]
  },
  {
   "cell_type": "code",
   "execution_count": 1,
   "metadata": {
    "colab": {
     "base_uri": "https://localhost:8080/"
    },
    "id": "oQkrxrtjAO4m",
    "outputId": "f0287dfc-847f-4b3d-b3a1-dee36217b44b"
   },
   "outputs": [
    {
     "name": "stdout",
     "output_type": "stream",
     "text": [
      "Addition: 5 + 7 = 12\n",
      "Subtraction: 5 - 7 = -2\n",
      "Multiplication: 5*7 = 35\n",
      "Division: 5/7 = 0.7142857142857143\n"
     ]
    }
   ],
   "source": [
    "a = 5\n",
    "b = 7\n",
    "\n",
    "add = a + b\n",
    "subs = a - b\n",
    "mult = a*b\n",
    "div = a/b\n",
    "\n",
    "print(f'Addition: {a} + {b} = {add}')\n",
    "print(f'Subtraction: {a} - {b} = {subs}')\n",
    "print(f'Multiplication: {a}*{b} = {mult}')\n",
    "print(f'Division: {a}/{b} = {div}')"
   ]
  },
  {
   "cell_type": "code",
   "execution_count": null,
   "metadata": {},
   "outputs": [],
   "source": []
  },
  {
   "cell_type": "markdown",
   "metadata": {
    "id": "8LIW0iccC_RJ"
   },
   "source": [
    "**2. What is the difference between the following operators:**\n",
    "\n",
    "(i) ‘/’ & ‘//’\n",
    "\n",
    "(ii) ‘**’ & ‘^’\n",
    "\n",
    "* Normal division (/) returns a fractional number, whereas \n",
    "* floor division (//) truncates the decimal part and returns the quotient.\n",
    "********************************************************************\n",
    "* For numeric data types, double-asterisk (**) is defined as an Exponentiation Operator:\n",
    "* The (^) operator compares each bit and set it to 1 if only one is 1, otherwise (if both are 1 or both are 0) it is set to 0"
   ]
  },
  {
   "cell_type": "code",
   "execution_count": 2,
   "metadata": {
    "colab": {
     "base_uri": "https://localhost:8080/"
    },
    "id": "XJyuhrkoEAaH",
    "outputId": "0b4cecc2-c356-4520-cbac-21de68c37167"
   },
   "outputs": [
    {
     "name": "stdout",
     "output_type": "stream",
     "text": [
      "The normal division of \"c\" and \"d\" is: 0.6666666666666666\n",
      "The foor division of \"c\" and \"d\" is: 0\n",
      "The exponetial operation of \"c\" and \"d\" is: 8\n",
      "The ^ operator sets each bit of \"c\" and \"d\" and is: 1\n"
     ]
    }
   ],
   "source": [
    "c = 2\n",
    "d = 3\n",
    "print(f'The normal division of \"c\" and \"d\" is: {c/d}')\n",
    "print(f'The foor division of \"c\" and \"d\" is: {c//d}')\n",
    "print(f'The exponetial operation of \"c\" and \"d\" is: {c**d}')\n",
    "print(f'The ^ operator sets each bit of \"c\" and \"d\" and is: {c^d}')"
   ]
  },
  {
   "cell_type": "code",
   "execution_count": null,
   "metadata": {},
   "outputs": [],
   "source": []
  },
  {
   "cell_type": "markdown",
   "metadata": {
    "id": "w92nYvhJJyi6"
   },
   "source": [
    "**3. List the logical operators.**\t\n",
    "* **and**:  \tReturns True if both statements are true \tx < 2 and  x < 14 \t\n",
    "* **or**: \tReturns True if one of the statements is true \tx < 3 or x < 7 \t\n",
    "* **not**: \tReverse the result, returns False if the result is true \tnot(x < 2 and x < 8)"
   ]
  },
  {
   "cell_type": "code",
   "execution_count": 8,
   "metadata": {},
   "outputs": [
    {
     "name": "stdout",
     "output_type": "stream",
     "text": [
      "True\n",
      "True\n",
      "False\n"
     ]
    }
   ],
   "source": [
    "x = 5\n",
    "#AND\n",
    "print(x > 2 and x < 14)\n",
    "# OR\n",
    "print(x > 3 or x < 7)\n",
    "# NOT\n",
    "print(not(x > 2 and x < 8))"
   ]
  },
  {
   "cell_type": "code",
   "execution_count": null,
   "metadata": {},
   "outputs": [],
   "source": []
  },
  {
   "cell_type": "markdown",
   "metadata": {
    "id": "l5huOQxdKi8K"
   },
   "source": [
    "**4. Explain right shift operator and left shift operator with examples.**\n",
    "\n",
    "* (>>)\tBitwise right shift\t\n",
    "\n",
    "The left operand’s value is moved toward right by the number of bits \n",
    "\n",
    "specified by the right operand.\n",
    "\tx>>\n",
    "* (<<)\tBitwise left shift\t\n",
    "\n",
    "The left operand’s value is moved toward left by the number of bits \n",
    "\n",
    "specified by the right operand.\n",
    "\tx<<"
   ]
  },
  {
   "cell_type": "code",
   "execution_count": 9,
   "metadata": {
    "colab": {
     "base_uri": "https://localhost:8080/"
    },
    "id": "60GsnTbBEEsI",
    "outputId": "995f6467-3bf3-42a0-c91c-7750bb7db1b8"
   },
   "outputs": [
    {
     "name": "stdout",
     "output_type": "stream",
     "text": [
      "a >> 1 = 7\n",
      "b >> 1 = -12\n"
     ]
    }
   ],
   "source": [
    "a = 14\n",
    "b = -23\n",
    " \n",
    "# print bitwise right shift operator\n",
    "print(\"a >> 1 =\", a >> 1)\n",
    "print(\"b >> 1 =\", b >> 1) \n"
   ]
  },
  {
   "cell_type": "code",
   "execution_count": null,
   "metadata": {
    "colab": {
     "base_uri": "https://localhost:8080/"
    },
    "id": "IIB-8YJQNYN_",
    "outputId": "7db60e07-5c95-4608-ac97-ad159e370082"
   },
   "outputs": [
    {
     "name": "stdout",
     "output_type": "stream",
     "text": [
      "a << 1 = 10\n",
      "b << 1 = -20\n"
     ]
    }
   ],
   "source": [
    "a = 14\n",
    "b = -23\n",
    "\n",
    " \n",
    "# print bitwise left shift operator\n",
    "print(\"a << 1 =\", a << 1)\n",
    "print(\"b << 1 =\", b << 1)"
   ]
  },
  {
   "cell_type": "code",
   "execution_count": null,
   "metadata": {},
   "outputs": [],
   "source": []
  },
  {
   "cell_type": "markdown",
   "metadata": {
    "id": "bLZUokJzNmp2"
   },
   "source": [
    "**5. Create a list containing int type data of length 15. Then write a code to check if 10 is\n",
    "present in the list or not.**"
   ]
  },
  {
   "cell_type": "code",
   "execution_count": 4,
   "metadata": {
    "colab": {
     "base_uri": "https://localhost:8080/"
    },
    "id": "-OIHIAmhNtbJ",
    "outputId": "adf4844f-c560-4d7c-ed13-8e088be861e4"
   },
   "outputs": [
    {
     "data": {
      "text/plain": [
       "[0, 1, 2, 3, 4, 5, 6, 7, 8, 9, 10, 11, 12, 13, 14]"
      ]
     },
     "execution_count": 4,
     "metadata": {},
     "output_type": "execute_result"
    }
   ],
   "source": [
    "l = [a for a in range(15)]\n",
    "l"
   ]
  },
  {
   "cell_type": "code",
   "execution_count": 7,
   "metadata": {
    "colab": {
     "base_uri": "https://localhost:8080/"
    },
    "id": "9PnodmHKOBlk",
    "outputId": "f0d19644-14fd-46be-8c15-4a8f08051949"
   },
   "outputs": [
    {
     "name": "stdout",
     "output_type": "stream",
     "text": [
      "No 0 is not in the list\n",
      "No 1 is not in the list\n",
      "No 2 is not in the list\n",
      "No 3 is not in the list\n",
      "No 4 is not in the list\n",
      "No 5 is not in the list\n",
      "No 6 is not in the list\n",
      "No 7 is not in the list\n",
      "No 8 is not in the list\n",
      "No 9 is not in the list\n",
      "Yes Number \"10\" is present in the list\n",
      "No 11 is not in the list\n",
      "No 12 is not in the list\n",
      "No 13 is not in the list\n",
      "No 14 is not in the list\n"
     ]
    }
   ],
   "source": [
    "num = 10\n",
    "\n",
    "for i in l:\n",
    "    if i == num:\n",
    "        print(f'Yes Number \"10\" is present in the list')\n",
    "    else:\n",
    "        print(f'No {i} is not in the list')\n",
    "\n"
   ]
  }
 ],
 "metadata": {
  "colab": {
   "authorship_tag": "ABX9TyMNqTbIxxRXR9d8LwADqAW0",
   "include_colab_link": true,
   "provenance": []
  },
  "kernelspec": {
   "display_name": "Python 3 (ipykernel)",
   "language": "python",
   "name": "python3"
  },
  "language_info": {
   "codemirror_mode": {
    "name": "ipython",
    "version": 3
   },
   "file_extension": ".py",
   "mimetype": "text/x-python",
   "name": "python",
   "nbconvert_exporter": "python",
   "pygments_lexer": "ipython3",
   "version": "3.9.16"
  }
 },
 "nbformat": 4,
 "nbformat_minor": 1
}
