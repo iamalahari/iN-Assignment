{
 "cells": [
  {
   "cell_type": "markdown",
   "id": "f9ebc510",
   "metadata": {},
   "source": [
    "# iNeuron Assignment 2"
   ]
  },
  {
   "cell_type": "markdown",
   "id": "f1bf03e0",
   "metadata": {},
   "source": [
    "## Q1.What are the two values of the Boolean data type? How do you write them?"
   ]
  },
  {
   "cell_type": "markdown",
   "id": "7142ff0e",
   "metadata": {},
   "source": [
    "A Boolean data type has one of two possible values (1(True) & 0(False)).\n",
    "we write them as True and False"
   ]
  },
  {
   "cell_type": "code",
   "execution_count": null,
   "id": "693aa83c",
   "metadata": {},
   "outputs": [],
   "source": []
  },
  {
   "cell_type": "markdown",
   "id": "b796bbfd",
   "metadata": {},
   "source": [
    "## Q2. What are the three different types of Boolean operators?"
   ]
  },
  {
   "cell_type": "markdown",
   "id": "a9e1e193",
   "metadata": {},
   "source": [
    "Python has three Boolean operators, or logical operators: 1.and , 2.or , and 3.not ."
   ]
  },
  {
   "cell_type": "code",
   "execution_count": null,
   "id": "f44e1537",
   "metadata": {},
   "outputs": [],
   "source": []
  },
  {
   "cell_type": "markdown",
   "id": "1861a0ba",
   "metadata": {},
   "source": [
    "## Q3. Make a list of each Boolean operator&#39;s truth tables (i.e. every possible combination of Boolean values for the operator and what it evaluate )."
   ]
  },
  {
   "cell_type": "markdown",
   "id": "c2bacc19",
   "metadata": {},
   "source": [
    " \n",
    "1.True and True is True.\n",
    "2.True and False is False.\n",
    "3.False and True is False.\n",
    "4.False and False is False.\n",
    "5.True or True is True.\n",
    "6.True or False is True.\n",
    "7.False or True is True.\n",
    "8.False or False is False.\n",
    "9.not True is False.\n",
    "10.not False is True."
   ]
  },
  {
   "cell_type": "code",
   "execution_count": null,
   "id": "a9bf8469",
   "metadata": {},
   "outputs": [],
   "source": []
  },
  {
   "cell_type": "markdown",
   "id": "0c783802",
   "metadata": {},
   "source": [
    "## Q4. What are the values of the following expressions?"
   ]
  },
  {
   "cell_type": "code",
   "execution_count": 1,
   "id": "4ef966f1",
   "metadata": {},
   "outputs": [
    {
     "data": {
      "text/plain": [
       "False"
      ]
     },
     "execution_count": 1,
     "metadata": {},
     "output_type": "execute_result"
    }
   ],
   "source": [
    "(5 > 4) and (3 == 5)"
   ]
  },
  {
   "cell_type": "code",
   "execution_count": 2,
   "id": "8658eb71",
   "metadata": {},
   "outputs": [
    {
     "data": {
      "text/plain": [
       "False"
      ]
     },
     "execution_count": 2,
     "metadata": {},
     "output_type": "execute_result"
    }
   ],
   "source": [
    "not (5 >4)"
   ]
  },
  {
   "cell_type": "code",
   "execution_count": 4,
   "id": "2b4cf71c",
   "metadata": {},
   "outputs": [
    {
     "data": {
      "text/plain": [
       "True"
      ]
     },
     "execution_count": 4,
     "metadata": {},
     "output_type": "execute_result"
    }
   ],
   "source": [
    "(5 > 4) or (3 == 5)"
   ]
  },
  {
   "cell_type": "code",
   "execution_count": 5,
   "id": "3a9d80a2",
   "metadata": {},
   "outputs": [
    {
     "data": {
      "text/plain": [
       "False"
      ]
     },
     "execution_count": 5,
     "metadata": {},
     "output_type": "execute_result"
    }
   ],
   "source": [
    "not ((5 > 4) or (3 == 5))"
   ]
  },
  {
   "cell_type": "code",
   "execution_count": 6,
   "id": "4aab326a",
   "metadata": {},
   "outputs": [
    {
     "data": {
      "text/plain": [
       "False"
      ]
     },
     "execution_count": 6,
     "metadata": {},
     "output_type": "execute_result"
    }
   ],
   "source": [
    "(True and True) and (True == False)"
   ]
  },
  {
   "cell_type": "code",
   "execution_count": 7,
   "id": "d04dd154",
   "metadata": {},
   "outputs": [
    {
     "data": {
      "text/plain": [
       "True"
      ]
     },
     "execution_count": 7,
     "metadata": {},
     "output_type": "execute_result"
    }
   ],
   "source": [
    "(not False) or (not True)"
   ]
  },
  {
   "cell_type": "code",
   "execution_count": null,
   "id": "dd9ff9ca",
   "metadata": {},
   "outputs": [],
   "source": []
  },
  {
   "cell_type": "markdown",
   "id": "0ace2739",
   "metadata": {},
   "source": [
    "## Q5. What are the six comparison operators?"
   ]
  },
  {
   "cell_type": "markdown",
   "id": "040a7c86",
   "metadata": {},
   "source": [
    "1.Less than ( < ), \n",
    "2.Less than or equal to ( <= ), \n",
    "3.Greater than ( > ), \n",
    "4.Greater than or equal to ( >= ), \n",
    "5.Equal to ( == ) and 6.\n",
    "Not Equal to ( != )"
   ]
  },
  {
   "cell_type": "code",
   "execution_count": null,
   "id": "9abb6db3",
   "metadata": {},
   "outputs": [],
   "source": []
  },
  {
   "cell_type": "markdown",
   "id": "b8a10c0f",
   "metadata": {},
   "source": [
    "## Q6. How do you tell the difference between the equal to and assignment operators?Describe a condition and when you would use one."
   ]
  },
  {
   "cell_type": "markdown",
   "id": "47e5c67b",
   "metadata": {},
   "source": [
    "'==' is the equal operator to operator used to compares two values and evaluates to a Boolean, while '=' is the assignment operator that stores a value to a specific variable."
   ]
  },
  {
   "cell_type": "code",
   "execution_count": null,
   "id": "98d2ca65",
   "metadata": {},
   "outputs": [],
   "source": []
  },
  {
   "cell_type": "markdown",
   "id": "d69f1ed6",
   "metadata": {},
   "source": [
    "## Q7. Identify the three blocks in this code:"
   ]
  },
  {
   "cell_type": "code",
   "execution_count": 9,
   "id": "80d3ebf9",
   "metadata": {},
   "outputs": [
    {
     "name": "stdout",
     "output_type": "stream",
     "text": [
      "ham\n",
      "spam\n",
      "spam\n"
     ]
    }
   ],
   "source": [
    "spam = 0\n",
    "if spam == 10:\n",
    "    print('eggs')\n",
    "if spam > 5:\n",
    "    print('bacon')\n",
    "else:\n",
    "    print('ham')\n",
    "    print('spam')\n",
    "    print('spam')"
   ]
  },
  {
   "cell_type": "markdown",
   "id": "477979d0",
   "metadata": {},
   "source": [
    "if spam is equal to 10 then it will print 'eggs' and if spam is greater than 5 then it will print \"bacon\",else print \n",
    "ham\n",
    "spam\n",
    "spam"
   ]
  },
  {
   "cell_type": "code",
   "execution_count": null,
   "id": "8236a774",
   "metadata": {},
   "outputs": [],
   "source": []
  },
  {
   "cell_type": "markdown",
   "id": "39610aa7",
   "metadata": {},
   "source": [
    "## Q8. Write code that prints Hello if 1 is stored in spam, prints Howdy if 2 is stored in spam, and printsGreetings! if anything else is stored in spam."
   ]
  },
  {
   "cell_type": "code",
   "execution_count": 17,
   "id": "c38a00ff",
   "metadata": {},
   "outputs": [
    {
     "name": "stdout",
     "output_type": "stream",
     "text": [
      "1\n",
      "Hello\n"
     ]
    }
   ],
   "source": [
    "spam = int(input())\n",
    "\n",
    "if spam == 1:\n",
    "    print('Hello')\n",
    "elif spam == 2:\n",
    "    print('Howdy')\n",
    "else:\n",
    "    print('Greetings!')"
   ]
  },
  {
   "cell_type": "code",
   "execution_count": null,
   "id": "aea7823e",
   "metadata": {},
   "outputs": [],
   "source": []
  },
  {
   "cell_type": "markdown",
   "id": "e267e5c8",
   "metadata": {},
   "source": [
    "## Q9.If your programme is stuck in an endless loop, what keys you’ll press?"
   ]
  },
  {
   "cell_type": "markdown",
   "id": "b38bf656",
   "metadata": {},
   "source": [
    "Press ctrl-C to stop a program stuck in an infinite loop."
   ]
  },
  {
   "cell_type": "code",
   "execution_count": null,
   "id": "032d072a",
   "metadata": {},
   "outputs": [],
   "source": []
  },
  {
   "cell_type": "markdown",
   "id": "73a66c28",
   "metadata": {},
   "source": [
    "## Q10. How can you tell the difference between break and continue?"
   ]
  },
  {
   "cell_type": "markdown",
   "id": "276429f6",
   "metadata": {},
   "source": [
    "The break statement will come out of the execution outside and just after a loop. The continue statement will move the execution to the start of the loop."
   ]
  },
  {
   "cell_type": "code",
   "execution_count": null,
   "id": "1e19192a",
   "metadata": {},
   "outputs": [],
   "source": []
  },
  {
   "cell_type": "markdown",
   "id": "d8966242",
   "metadata": {},
   "source": [
    "## Q11. In a for loop, what is the difference between range(10), range(0, 10), and range(0,10,1)?"
   ]
  },
  {
   "cell_type": "markdown",
   "id": "1e28082b",
   "metadata": {},
   "source": [
    "They all do the same thing. \n",
    "1.The range(10) call ranges from 0 up to (but not including) 10, \n",
    "2.range(0,10) explicitly tells the loop to start at 0 , and \n",
    "3.range (0,10,1) explicitly tells the loop to increase the variable by 1 on each iteration."
   ]
  },
  {
   "cell_type": "code",
   "execution_count": null,
   "id": "ab1ce3b1",
   "metadata": {},
   "outputs": [],
   "source": []
  },
  {
   "cell_type": "markdown",
   "id": "48d5d26c",
   "metadata": {},
   "source": [
    "## Q12. Write a short program that prints the numbers 1 to 10 using a for loop. Then write an equivalent program that prints the numbers 1 to 10 using a while loop."
   ]
  },
  {
   "cell_type": "code",
   "execution_count": 21,
   "id": "b7396b20",
   "metadata": {},
   "outputs": [
    {
     "name": "stdout",
     "output_type": "stream",
     "text": [
      "1\n",
      "2\n",
      "3\n",
      "4\n",
      "5\n",
      "6\n",
      "7\n",
      "8\n",
      "9\n",
      "10\n"
     ]
    }
   ],
   "source": [
    "for i in range (1,11):\n",
    "    print(i)"
   ]
  },
  {
   "cell_type": "code",
   "execution_count": 24,
   "id": "c97f4b29",
   "metadata": {},
   "outputs": [
    {
     "name": "stdout",
     "output_type": "stream",
     "text": [
      "1\n",
      "2\n",
      "3\n",
      "4\n",
      "5\n",
      "6\n",
      "7\n",
      "8\n",
      "9\n",
      "10\n"
     ]
    }
   ],
   "source": [
    "i = 1\n",
    "while i <= 10:\n",
    "    print(i)\n",
    "i = i + 1"
   ]
  },
  {
   "cell_type": "code",
   "execution_count": null,
   "id": "3678fe2f",
   "metadata": {},
   "outputs": [],
   "source": []
  },
  {
   "cell_type": "markdown",
   "id": "631a413d",
   "metadata": {},
   "source": [
    "## Q13. If you had a function named bacon() inside a module named spam, how would you call it after importing spam?"
   ]
  },
  {
   "cell_type": "code",
   "execution_count": null,
   "id": "9193d5db",
   "metadata": {},
   "outputs": [],
   "source": [
    "spam.bacon()"
   ]
  },
  {
   "cell_type": "code",
   "execution_count": null,
   "id": "ba14b107",
   "metadata": {},
   "outputs": [],
   "source": []
  }
 ],
 "metadata": {
  "kernelspec": {
   "display_name": "Python 3 (ipykernel)",
   "language": "python",
   "name": "python3"
  },
  "language_info": {
   "codemirror_mode": {
    "name": "ipython",
    "version": 3
   },
   "file_extension": ".py",
   "mimetype": "text/x-python",
   "name": "python",
   "nbconvert_exporter": "python",
   "pygments_lexer": "ipython3",
   "version": "3.9.16"
  }
 },
 "nbformat": 4,
 "nbformat_minor": 5
}
