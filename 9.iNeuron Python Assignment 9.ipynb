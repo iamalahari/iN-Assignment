{
 "cells": [
  {
   "cell_type": "markdown",
   "id": "657679bc",
   "metadata": {},
   "source": [
    "# iNeuron Assignment 9"
   ]
  },
  {
   "cell_type": "markdown",
   "id": "5fd6ca3a",
   "metadata": {},
   "source": [
    "## Q1. What is a lambda function in Python, and how does it differ from a regular function?"
   ]
  },
  {
   "cell_type": "markdown",
   "id": "4e40220e",
   "metadata": {},
   "source": [
    "\n",
    "&emsp;1. A lambda function is also known as anonymous function because it can defined without a name, can take any number of arguments and unlike normal functions, evaluates and returns only one expression.<br>\n",
    "&emsp;2. Unlike a normal function, in lambda function we don't surround the parameters of a lambda function with parentheses. If a lambda function takes two or more parameters, we list them with a comma."
   ]
  },
  {
   "cell_type": "code",
   "execution_count": 2,
   "id": "971342c6",
   "metadata": {
    "ExecuteTime": {
     "end_time": "2023-06-15T15:51:53.496847Z",
     "start_time": "2023-06-15T15:51:53.476846Z"
    }
   },
   "outputs": [
    {
     "name": "stdout",
     "output_type": "stream",
     "text": [
      "7\n"
     ]
    }
   ],
   "source": [
    "#normal function\n",
    "def inc_by_one(x):\n",
    "    print(x+2)\n",
    "    return \n",
    "inc_by_one(5)"
   ]
  },
  {
   "cell_type": "code",
   "execution_count": 3,
   "id": "ca7951e6",
   "metadata": {
    "ExecuteTime": {
     "end_time": "2023-06-15T15:53:37.514314Z",
     "start_time": "2023-06-15T15:53:37.498314Z"
    }
   },
   "outputs": [
    {
     "data": {
      "text/plain": [
       "7"
      ]
     },
     "execution_count": 3,
     "metadata": {},
     "output_type": "execute_result"
    }
   ],
   "source": [
    "#lambda function\n",
    "(lambda x: x + 2)(5)"
   ]
  },
  {
   "cell_type": "markdown",
   "id": "3ce7e049",
   "metadata": {},
   "source": [
    "## Q 2. Can a lambda function in Python have multiple arguments? If yes, how can you define and use them?"
   ]
  },
  {
   "cell_type": "markdown",
   "id": "9b79bc18",
   "metadata": {},
   "source": [
    "Yes, a lambda function can have multiple arguments in it. If a lambda function takes two or more parameters, we list them inside lambda with a comma in it."
   ]
  },
  {
   "cell_type": "code",
   "execution_count": 4,
   "id": "c999ab24",
   "metadata": {
    "ExecuteTime": {
     "end_time": "2023-06-15T16:03:14.936469Z",
     "start_time": "2023-06-15T16:03:14.917499Z"
    }
   },
   "outputs": [
    {
     "name": "stdout",
     "output_type": "stream",
     "text": [
      "sum with multiple arguments in lambda is : 10\n"
     ]
    }
   ],
   "source": [
    "# multiple arguments in lambda function\n",
    "a = 2\n",
    "b = 3\n",
    "c = 5\n",
    "lambda_sum = (lambda x, y, z: x + y + z) (a, b, c)\n",
    "print(\"sum with multiple arguments in lambda is :\",lambda_sum)"
   ]
  },
  {
   "cell_type": "markdown",
   "id": "f650bdd0",
   "metadata": {},
   "source": [
    "## Q 3. How are lambda functions typically used in Python? Provide an example use case."
   ]
  },
  {
   "cell_type": "markdown",
   "id": "ecb0c39f",
   "metadata": {},
   "source": [
    "In Python, we generally use Lambda Functions as an argument to a higher-order function (a function that takes in other functions as arguments).\n",
    "<br>\n",
    "   e.g, These are used together with built-in functions like filter(), map(), and reduce(), etc, which we will discuss later in this article."
   ]
  },
  {
   "cell_type": "code",
   "execution_count": 5,
   "id": "ee589ce0",
   "metadata": {
    "ExecuteTime": {
     "end_time": "2023-06-16T03:51:52.367314Z",
     "start_time": "2023-06-16T03:51:52.354315Z"
    }
   },
   "outputs": [
    {
     "name": "stdout",
     "output_type": "stream",
     "text": [
      "[14, 7, 34, 23, 88]\n"
     ]
    }
   ],
   "source": [
    "list_new  = [14, 2, 4, 5, 7, 34, 23, 88]\n",
    "list_more_than_6 = filter(lambda x: x>6, list_new)\n",
    "print(list(list_more_than_6))"
   ]
  },
  {
   "cell_type": "markdown",
   "id": "3f92e5d7",
   "metadata": {},
   "source": [
    "## Q 4. What are the advantages and limitations of lambda functions compared to regular functions in Python?"
   ]
  },
  {
   "cell_type": "markdown",
   "id": "c99004c3",
   "metadata": {},
   "source": [
    "\n",
    "##### Advantage of Lambda functions:\n",
    "1. They can be immediately passed around (no variable needed)\n",
    "2. They can only have a single line of code within them and execute comparatively faster\n",
    "3. They return automatically\n",
    "4. Lambda functions make code much more readable by avoiding the logical jumps\n",
    "\n",
    "##### Disadvantage of Lambda functions:\n",
    "1. Lambda is not user-friendly as def\n",
    "2. It is problem when we need to build a complex function\n",
    "3. Lambda functions can have only one expression. It can't be acceptable in all the circumstances\n",
    "4. They cannot have a docstring in them to explain major functions.\n"
   ]
  },
  {
   "cell_type": "code",
   "execution_count": 6,
   "id": "85cbc50d",
   "metadata": {
    "ExecuteTime": {
     "end_time": "2023-06-16T04:13:28.967878Z",
     "start_time": "2023-06-16T04:13:28.955853Z"
    }
   },
   "outputs": [
    {
     "name": "stdout",
     "output_type": "stream",
     "text": [
      "11\n"
     ]
    }
   ],
   "source": [
    "d = (lambda x, y, z: x*y+z)(2, 3, 5)\n",
    "print(d)"
   ]
  },
  {
   "cell_type": "code",
   "execution_count": 7,
   "id": "d800c8ba",
   "metadata": {
    "ExecuteTime": {
     "end_time": "2023-06-16T04:15:53.195041Z",
     "start_time": "2023-06-16T04:15:53.180040Z"
    }
   },
   "outputs": [
    {
     "name": "stdout",
     "output_type": "stream",
     "text": [
      "11\n",
      "None\n"
     ]
    }
   ],
   "source": [
    "def fun(x, y, z):\n",
    "    return x*y+z\n",
    "print(fun(2, 3, 5))\n",
    "print(fun.__doc__)"
   ]
  },
  {
   "cell_type": "markdown",
   "id": "9130db10",
   "metadata": {},
   "source": [
    "## Q 5. Are lambda functions in Python able to access variables defined outside of their own scope? Explain with an example."
   ]
  },
  {
   "cell_type": "markdown",
   "id": "34ba369e",
   "metadata": {},
   "source": [
    "Yes, Lambda function in python able to access variables defined outside their own scope."
   ]
  },
  {
   "cell_type": "code",
   "execution_count": 8,
   "id": "d6b9a01b",
   "metadata": {
    "ExecuteTime": {
     "end_time": "2023-06-18T15:17:30.332661Z",
     "start_time": "2023-06-18T15:17:30.319662Z"
    }
   },
   "outputs": [
    {
     "name": "stdout",
     "output_type": "stream",
     "text": [
      "25\n"
     ]
    }
   ],
   "source": [
    "c = 14 # outside scope\n",
    "\n",
    "d = (lambda x, y, z: x*y+z+c)(2, 3, 5) # lambda function with c which is defined outside scope\n",
    "print(d)"
   ]
  },
  {
   "cell_type": "markdown",
   "id": "7224500e",
   "metadata": {},
   "source": [
    "## Question 6. Write a lambda function to calculate the square of a given number."
   ]
  },
  {
   "cell_type": "code",
   "execution_count": 13,
   "id": "22f8fd2f",
   "metadata": {
    "ExecuteTime": {
     "end_time": "2023-06-18T15:29:01.411111Z",
     "start_time": "2023-06-18T15:28:58.938609Z"
    }
   },
   "outputs": [
    {
     "name": "stdout",
     "output_type": "stream",
     "text": [
      "Enter the Number : 5\n",
      "25\n"
     ]
    }
   ],
   "source": [
    "z = (lambda x: x**2)\n",
    "num = int(input(\"Enter the Number : \"))\n",
    "print(z(num))"
   ]
  },
  {
   "cell_type": "markdown",
   "id": "7afdb3a2",
   "metadata": {},
   "source": [
    "## Q 7. Create a lambda function to find the maximum value in a list of integers."
   ]
  },
  {
   "cell_type": "code",
   "execution_count": 14,
   "id": "affe6dd1",
   "metadata": {
    "ExecuteTime": {
     "end_time": "2023-06-18T15:32:23.397795Z",
     "start_time": "2023-06-18T15:32:23.380795Z"
    }
   },
   "outputs": [
    {
     "name": "stdout",
     "output_type": "stream",
     "text": [
      "104\n"
     ]
    }
   ],
   "source": [
    "int_list = ['5', '14', '23', '32', '41', '50','104']\n",
    "print(max(int_list, key=lambda x:int(x)))"
   ]
  },
  {
   "cell_type": "markdown",
   "id": "ec81ca45",
   "metadata": {},
   "source": [
    "## Q 8. Implement a lambda function to filter out all the even numbers from a list of integers."
   ]
  },
  {
   "cell_type": "code",
   "execution_count": 15,
   "id": "7cbaa168",
   "metadata": {
    "ExecuteTime": {
     "end_time": "2023-06-18T15:34:33.124137Z",
     "start_time": "2023-06-18T15:34:33.117136Z"
    }
   },
   "outputs": [
    {
     "name": "stdout",
     "output_type": "stream",
     "text": [
      "[2, 4, 6, 8, 10]\n"
     ]
    }
   ],
   "source": [
    "numbers = [1, 2, 3, 4, 5, 6, 7, 8, 9, 10]\n",
    "even_numbers = list(filter(lambda x: x%2 == 0, numbers))\n",
    "print(even_numbers)"
   ]
  },
  {
   "cell_type": "markdown",
   "id": "2883f1ef",
   "metadata": {},
   "source": [
    "## Q 9. Write a lambda function to sort a list of strings in ascending order based on the length of each string."
   ]
  },
  {
   "cell_type": "code",
   "execution_count": 17,
   "id": "2fd7e082",
   "metadata": {
    "ExecuteTime": {
     "end_time": "2023-06-18T15:38:17.569147Z",
     "start_time": "2023-06-18T15:38:17.554147Z"
    }
   },
   "outputs": [
    {
     "name": "stdout",
     "output_type": "stream",
     "text": [
      "['I', 'am', 'at', 'in', 'and', 'good', 'stock', 'market', 'trading', 'investing']\n"
     ]
    }
   ],
   "source": [
    "list_string = [\"I\", \"am\", \"good\", \"at\", \"trading\", \"and\", \"investing\", \"in\",\"stock\",\"market\"]\n",
    "sorted_name_list = sorted(list_string, key=lambda x: len(x))\n",
    "print(sorted_name_list)"
   ]
  },
  {
   "cell_type": "markdown",
   "id": "068bc3be",
   "metadata": {},
   "source": [
    "## Q 10. Create a lambda function that takes two lists as input and returns a new list containing the common elements between the two lists."
   ]
  },
  {
   "cell_type": "code",
   "execution_count": 20,
   "id": "d4c5706d",
   "metadata": {
    "ExecuteTime": {
     "end_time": "2023-06-18T15:45:45.965304Z",
     "start_time": "2023-06-18T15:45:45.954284Z"
    }
   },
   "outputs": [
    {
     "name": "stdout",
     "output_type": "stream",
     "text": [
      "[2, 3, 5, 7]\n"
     ]
    }
   ],
   "source": [
    "array_nums1 = [2, 3, 5, 7, 10]\n",
    "array_nums2 = [1, 2, 3, 5, 7, 8, 9]\n",
    "result = list(filter(lambda x: x in array_nums1, array_nums2)) \n",
    "print(result)"
   ]
  },
  {
   "cell_type": "markdown",
   "id": "8d781690",
   "metadata": {},
   "source": [
    "## Q 11. Write a recursive function to calculate the factorial of a given positive integer."
   ]
  },
  {
   "cell_type": "code",
   "execution_count": 22,
   "id": "a3d0718f",
   "metadata": {
    "ExecuteTime": {
     "end_time": "2023-06-18T17:35:38.390766Z",
     "start_time": "2023-06-18T17:35:37.071295Z"
    }
   },
   "outputs": [
    {
     "name": "stdout",
     "output_type": "stream",
     "text": [
      "Enter the Number : 5\n"
     ]
    },
    {
     "data": {
      "text/plain": [
       "120"
      ]
     },
     "execution_count": 22,
     "metadata": {},
     "output_type": "execute_result"
    }
   ],
   "source": [
    "def recur_factorial(n):  \n",
    "    if n == 1:  \n",
    "        return n\n",
    "    elif n < 0:\n",
    "        print(\"Sorry, factorial does  exist for only for postive numbers\")\n",
    "    else:  \n",
    "        return n * recur_factorial(n-1)\n",
    "recur_factorial(int(input(\"Enter the Number : \")))"
   ]
  },
  {
   "cell_type": "markdown",
   "id": "dd7551cc",
   "metadata": {},
   "source": [
    "## Q 12. Implement a recursive function to compute the nth Fibonacci number."
   ]
  },
  {
   "cell_type": "code",
   "execution_count": 26,
   "id": "43ac3317",
   "metadata": {
    "ExecuteTime": {
     "end_time": "2023-06-18T17:37:43.724593Z",
     "start_time": "2023-06-18T17:37:42.089709Z"
    }
   },
   "outputs": [
    {
     "name": "stdout",
     "output_type": "stream",
     "text": [
      "Enter the Number : 7\n"
     ]
    },
    {
     "data": {
      "text/plain": [
       "13"
      ]
     },
     "execution_count": 26,
     "metadata": {},
     "output_type": "execute_result"
    }
   ],
   "source": [
    "def fib(n):\n",
    "    if n <= 1:\n",
    "        return n \n",
    "    else:\n",
    "        return fib(n-1) + fib(n-2)\n",
    "fib(int(input(\"Enter the Number : \")))"
   ]
  },
  {
   "cell_type": "markdown",
   "id": "c27aadaf",
   "metadata": {},
   "source": [
    "## Q13. Create a recursive function to find the sum of all the elements in a given list."
   ]
  },
  {
   "cell_type": "code",
   "execution_count": 29,
   "id": "b52e199a",
   "metadata": {
    "ExecuteTime": {
     "end_time": "2023-06-18T17:41:00.452617Z",
     "start_time": "2023-06-18T17:41:00.434625Z"
    }
   },
   "outputs": [
    {
     "data": {
      "text/plain": [
       "28"
      ]
     },
     "execution_count": 29,
     "metadata": {},
     "output_type": "execute_result"
    }
   ],
   "source": [
    "def find_Sum(list1): \n",
    "     if len(list1)== 1: \n",
    "        return list1[0] \n",
    "     else: \n",
    "        return list1[0]+find_Sum(list1[1:]) \n",
    "find_Sum([1, 2, 3, 4, 5, 6, 7])"
   ]
  },
  {
   "cell_type": "markdown",
   "id": "b81ef3fe",
   "metadata": {},
   "source": [
    "## Q 14. Write a recursive function to determine whether a given string is a palindrome."
   ]
  },
  {
   "cell_type": "code",
   "execution_count": 31,
   "id": "d0ca0643",
   "metadata": {
    "ExecuteTime": {
     "end_time": "2023-06-18T18:57:58.520627Z",
     "start_time": "2023-06-18T18:57:54.134044Z"
    }
   },
   "outputs": [
    {
     "name": "stdout",
     "output_type": "stream",
     "text": [
      "Enter the String : tenet\n",
      "The string is a palindrome\n"
     ]
    }
   ],
   "source": [
    "def palindrome_or_not(input_str):\n",
    "    if len(input_str) < 1:\n",
    "        return True\n",
    "    else:\n",
    "        if input_str[0] == input_str[-1]:\n",
    "            return palindrome_or_not(input_str[1:-1])\n",
    "        else:\n",
    "            return False\n",
    "inp_str = input(\"Enter the String : \")\n",
    "\n",
    "if(palindrome_or_not(inp_str)==True):\n",
    "    print(\"The string is a palindrome\")\n",
    "else:\n",
    "    print(\"The string is not a palindrome\")"
   ]
  },
  {
   "cell_type": "markdown",
   "id": "086d19f3",
   "metadata": {},
   "source": [
    "## Q 15. Implement a recursive function to find the greatest common divisor (GCD) of two positive integers."
   ]
  },
  {
   "cell_type": "code",
   "execution_count": 32,
   "id": "49692e62",
   "metadata": {
    "ExecuteTime": {
     "end_time": "2023-06-18T19:06:55.563898Z",
     "start_time": "2023-06-18T19:06:55.498508Z"
    }
   },
   "outputs": [
    {
     "data": {
      "text/plain": [
       "25"
      ]
     },
     "execution_count": 32,
     "metadata": {},
     "output_type": "execute_result"
    }
   ],
   "source": [
    "def GCD(a, b):\n",
    "    if a == b:\n",
    "        return a\n",
    "    elif a < b:\n",
    "        return GCD(b, a)\n",
    "    else:\n",
    "        return GCD(b, a - b) \n",
    "GCD(25, 50)"
   ]
  },
  {
   "cell_type": "code",
   "execution_count": null,
   "id": "282f1e5d",
   "metadata": {},
   "outputs": [],
   "source": []
  }
 ],
 "metadata": {
  "kernelspec": {
   "display_name": "Python 3 (ipykernel)",
   "language": "python",
   "name": "python3"
  },
  "language_info": {
   "codemirror_mode": {
    "name": "ipython",
    "version": 3
   },
   "file_extension": ".py",
   "mimetype": "text/x-python",
   "name": "python",
   "nbconvert_exporter": "python",
   "pygments_lexer": "ipython3",
   "version": "3.9.16"
  },
  "varInspector": {
   "cols": {
    "lenName": 16,
    "lenType": 16,
    "lenVar": 40
   },
   "kernels_config": {
    "python": {
     "delete_cmd_postfix": "",
     "delete_cmd_prefix": "del ",
     "library": "var_list.py",
     "varRefreshCmd": "print(var_dic_list())"
    },
    "r": {
     "delete_cmd_postfix": ") ",
     "delete_cmd_prefix": "rm(",
     "library": "var_list.r",
     "varRefreshCmd": "cat(var_dic_list()) "
    }
   },
   "types_to_exclude": [
    "module",
    "function",
    "builtin_function_or_method",
    "instance",
    "_Feature"
   ],
   "window_display": false
  }
 },
 "nbformat": 4,
 "nbformat_minor": 5
}
