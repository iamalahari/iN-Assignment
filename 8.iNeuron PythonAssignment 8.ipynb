{
 "cells": [
  {
   "cell_type": "markdown",
   "id": "8b1c3ecd",
   "metadata": {},
   "source": [
    "# iNeuron Assignment 8"
   ]
  },
  {
   "cell_type": "markdown",
   "id": "9b5c8303",
   "metadata": {},
   "source": [
    "### Q 1. In Python, what is the difference between a built-in function and a user-defined function? Provide an example of each."
   ]
  },
  {
   "cell_type": "markdown",
   "id": "9b20c063",
   "metadata": {},
   "source": [
    "<br><br>\n",
    "Built-in Function :<br>\n",
    "&emsp;&emsp; These are the functions that are provided by any language library. In the programming we do many of activities by using a built-in function. A library function is accessed simply by callling the function, followed by an optional list of arguments. eg:<br>\n",
    "len(), type() & etc<br>\n",
    "<br>\n",
    "User-defined Function :<br>\n",
    "&emsp;&emsp; The functions which are defined by the user themselves in order to get their work done such functions are called user-defined functions. They can use built-in functions inside their operational program to get the work done. eg: <br><br>\n",
    "def printing(new):<br>\n",
    "&emsp;    return(new)<br>\n",
    "printing(\"hello\")<br>"
   ]
  },
  {
   "cell_type": "code",
   "execution_count": 1,
   "id": "01e7e276",
   "metadata": {
    "ExecuteTime": {
     "end_time": "2023-06-13T19:42:02.624481Z",
     "start_time": "2023-06-13T19:42:02.606477Z"
    }
   },
   "outputs": [
    {
     "name": "stdout",
     "output_type": "stream",
     "text": [
      "165\n",
      "<class 'int'>\n"
     ]
    }
   ],
   "source": [
    "# Built-in Function : sum and type is used as an example\n",
    "a = [11, 22, 33, 44, 55]\n",
    "Sum = sum(a)\n",
    "print(Sum)\n",
    "print(type(Sum))"
   ]
  },
  {
   "cell_type": "code",
   "execution_count": 2,
   "id": "324b4364",
   "metadata": {
    "ExecuteTime": {
     "end_time": "2023-06-13T19:54:12.261342Z",
     "start_time": "2023-06-13T19:54:12.243349Z"
    }
   },
   "outputs": [
    {
     "name": "stdout",
     "output_type": "stream",
     "text": [
      "110\n"
     ]
    }
   ],
   "source": [
    "# User Defined Function : sum function is used as an example\n",
    "def sum_new(age, n=0):\n",
    "    for i in age:\n",
    "        n += i\n",
    "    print(n)\n",
    "sum_new([11, 22, 33, 44])"
   ]
  },
  {
   "cell_type": "markdown",
   "id": "8926a91f",
   "metadata": {},
   "source": [
    "### Q 2. How can you pass arguments to a function in Python? Explain the difference between positional arguments and keyword arguments."
   ]
  },
  {
   "cell_type": "markdown",
   "id": "bcc80117",
   "metadata": {},
   "source": [
    "<br><br>\n",
    "&emsp;&emsp; Arguments in python here are specified after the function name, inside the parentheses. We can add as many arguments as we want, just we have to separate them with a comma. Python functions can contain two types of arguments: `Positional Arguments` and `Keyword Arguments`. Positional arguments must be included in the correct order. Keyword arguments are included with a keyword and equals sign.<br>\n",
    "<br>\n",
    "`Positional Arguments` : Positional arguments are arguments that need to be included in the proper position or order. eg:<br>\n",
    "def team(n, p):<br>\n",
    "&emsp;    print(n, \"is working on a new\", p)<br>\n",
    "team(\"Raj\", \"project\")<br>\n",
    "`Keyword Arguments` : A keyword argument is an argument passed to a function or method which is preceded by a keyword and an equals sign. eg : <br>\n",
    "def team(n, p):<br>\n",
    "&emsp;    print(n, \"is working on a new\", p)<br>\n",
    "team(p = \"project\", n = 'Raj')<br>"
   ]
  },
  {
   "cell_type": "code",
   "execution_count": 5,
   "id": "26892c41",
   "metadata": {
    "ExecuteTime": {
     "end_time": "2023-06-13T20:20:06.962241Z",
     "start_time": "2023-06-13T20:20:06.939237Z"
    }
   },
   "outputs": [
    {
     "name": "stdout",
     "output_type": "stream",
     "text": [
      "Alahari is working on a new Trade Strategy\n"
     ]
    }
   ],
   "source": [
    "# Positional Arguments\n",
    "def team(n, p):\n",
    "    print(n, \"is working on a new\", p)\n",
    "team(\"Alahari\", \"Trade Strategy\")"
   ]
  },
  {
   "cell_type": "code",
   "execution_count": 4,
   "id": "b14d676e",
   "metadata": {
    "ExecuteTime": {
     "end_time": "2023-06-13T20:20:52.335205Z",
     "start_time": "2023-06-13T20:20:52.329208Z"
    }
   },
   "outputs": [
    {
     "name": "stdout",
     "output_type": "stream",
     "text": [
      "Alahari is working on a new project\n"
     ]
    }
   ],
   "source": [
    "# Keyword Arguments\n",
    "def team(n, p):\n",
    "    print(n, \"is working on a new\", p)\n",
    "team(p = \"Trading Strategy\", n = 'Alahari')"
   ]
  },
  {
   "cell_type": "markdown",
   "id": "9c69b431",
   "metadata": {},
   "source": [
    "### Q3. What is the purpose of the return statement in a function? Can a function have multiple return statements? Explain with an example."
   ]
  },
  {
   "cell_type": "markdown",
   "id": "51dd759e",
   "metadata": {},
   "source": [
    "<br><br>\n",
    "&emsp;&emsp;In Python programming language, return statement is used to return the values from the function. We can use the return statement in a function only. A return statement ends the processing of the current function and returns control to the caller of the function. It simply returns the values as output whereas print() function simply print the value.<br>\n",
    "\n",
    "&emsp;&emsp; Yes, a function can have more than one return statement, but only ever run one based on a condition."
   ]
  },
  {
   "cell_type": "code",
   "execution_count": 7,
   "id": "c48bb1fc",
   "metadata": {
    "ExecuteTime": {
     "end_time": "2023-06-13T20:28:11.116692Z",
     "start_time": "2023-06-13T20:28:11.094691Z"
    }
   },
   "outputs": [
    {
     "data": {
      "text/plain": [
       "57"
      ]
     },
     "execution_count": 7,
     "metadata": {},
     "output_type": "execute_result"
    }
   ],
   "source": [
    "# return value\n",
    "def add_value(a, b):\n",
    "    return a + b\n",
    "add_value(23,34 )"
   ]
  },
  {
   "cell_type": "code",
   "execution_count": 8,
   "id": "6aa34a5f",
   "metadata": {
    "ExecuteTime": {
     "end_time": "2023-06-13T20:35:14.227273Z",
     "start_time": "2023-06-13T20:35:14.212255Z"
    }
   },
   "outputs": [
    {
     "data": {
      "text/plain": [
       "'even'"
      ]
     },
     "execution_count": 8,
     "metadata": {},
     "output_type": "execute_result"
    }
   ],
   "source": [
    "# multiple return statement\n",
    "def even_or_odd(n):\n",
    "    if n % 2 == 0:\n",
    "        return (\"even\")\n",
    "    else:\n",
    "        return (\"odd\")\n",
    "even_or_odd(6)"
   ]
  },
  {
   "cell_type": "markdown",
   "id": "f10bc36b",
   "metadata": {},
   "source": [
    "### Q4. What are lambda functions in Python? How are they different from regular functions? Provide an example where a lambda function can be useful."
   ]
  },
  {
   "cell_type": "markdown",
   "id": "c39f6b9b",
   "metadata": {},
   "source": [
    "Python Lambda Functions are anonymous functions which means that the function can be defined without a name in program. As def keyword is used to define a normal function in Python. Similarly, the lambda keyword is used to define an anonymous function in Python. \n",
    "<br><br>\n",
    "* Lambda functions can have any number of arguments but only one expression, which is evaluated and returned.<br>\n",
    "* Lambda functions are syntactically restricted to a single expression.<br>\n",
    "* Using lambda function can sometime reduce the readability of code.<br>\n",
    "\n",
    "\n",
    "`Difference in regular and lambda function`\n",
    "\n",
    "|With lambda function   | Without lambda function   |\n",
    "|---|---|\n",
    "|Supports single line statements that returns some value.             | Supports any number of lines inside a function block   |\n",
    "|Good for performing short operations/data manipulations.             | Good for any cases that require multiple lines of code.  |\n",
    "|Using lambda function can sometime reduce the readability of code.   | We can use comments and function descriptions for easy readability.  |\n",
    "\n"
   ]
  },
  {
   "cell_type": "code",
   "execution_count": 9,
   "id": "96af11d8",
   "metadata": {
    "ExecuteTime": {
     "end_time": "2023-06-14T05:12:55.908097Z",
     "start_time": "2023-06-14T05:12:55.872098Z"
    }
   },
   "outputs": [
    {
     "data": {
      "text/html": [
       "<div>\n",
       "<style scoped>\n",
       "    .dataframe tbody tr th:only-of-type {\n",
       "        vertical-align: middle;\n",
       "    }\n",
       "\n",
       "    .dataframe tbody tr th {\n",
       "        vertical-align: top;\n",
       "    }\n",
       "\n",
       "    .dataframe thead th {\n",
       "        text-align: right;\n",
       "    }\n",
       "</style>\n",
       "<table border=\"1\" class=\"dataframe\">\n",
       "  <thead>\n",
       "    <tr style=\"text-align: right;\">\n",
       "      <th></th>\n",
       "      <th>Name</th>\n",
       "      <th>Status</th>\n",
       "      <th>Birthyear</th>\n",
       "    </tr>\n",
       "  </thead>\n",
       "  <tbody>\n",
       "    <tr>\n",
       "      <th>0</th>\n",
       "      <td>Suresh</td>\n",
       "      <td>Father</td>\n",
       "      <td>1976</td>\n",
       "    </tr>\n",
       "    <tr>\n",
       "      <th>1</th>\n",
       "      <td>Bharathi</td>\n",
       "      <td>Mother</td>\n",
       "      <td>1984</td>\n",
       "    </tr>\n",
       "    <tr>\n",
       "      <th>2</th>\n",
       "      <td>Alahari</td>\n",
       "      <td>Son</td>\n",
       "      <td>2013</td>\n",
       "    </tr>\n",
       "    <tr>\n",
       "      <th>3</th>\n",
       "      <td>Sujith</td>\n",
       "      <td>Son</td>\n",
       "      <td>2016</td>\n",
       "    </tr>\n",
       "  </tbody>\n",
       "</table>\n",
       "</div>"
      ],
      "text/plain": [
       "       Name  Status  Birthyear\n",
       "0    Suresh  Father       1976\n",
       "1  Bharathi  Mother       1984\n",
       "2   Alahari     Son       2013\n",
       "3    Sujith     Son       2016"
      ]
     },
     "execution_count": 9,
     "metadata": {},
     "output_type": "execute_result"
    }
   ],
   "source": [
    "import pandas as pd\n",
    "df = pd.DataFrame({\n",
    "    'Name': ['Suresh','Bharathi','Alahari','Sujith'],\n",
    "    'Status': ['Father', 'Mother', 'Son', 'Son'],\n",
    "    'Birthyear': [1976, 1984, 2013, 2016],\n",
    "})\n",
    "df"
   ]
  },
  {
   "cell_type": "code",
   "execution_count": 10,
   "id": "eac1c191",
   "metadata": {
    "ExecuteTime": {
     "end_time": "2023-06-14T05:13:44.146595Z",
     "start_time": "2023-06-14T05:13:44.114594Z"
    }
   },
   "outputs": [
    {
     "data": {
      "text/html": [
       "<div>\n",
       "<style scoped>\n",
       "    .dataframe tbody tr th:only-of-type {\n",
       "        vertical-align: middle;\n",
       "    }\n",
       "\n",
       "    .dataframe tbody tr th {\n",
       "        vertical-align: top;\n",
       "    }\n",
       "\n",
       "    .dataframe thead th {\n",
       "        text-align: right;\n",
       "    }\n",
       "</style>\n",
       "<table border=\"1\" class=\"dataframe\">\n",
       "  <thead>\n",
       "    <tr style=\"text-align: right;\">\n",
       "      <th></th>\n",
       "      <th>Name</th>\n",
       "      <th>Status</th>\n",
       "      <th>Birthyear</th>\n",
       "      <th>age</th>\n",
       "    </tr>\n",
       "  </thead>\n",
       "  <tbody>\n",
       "    <tr>\n",
       "      <th>0</th>\n",
       "      <td>Suresh</td>\n",
       "      <td>Father</td>\n",
       "      <td>1976</td>\n",
       "      <td>47</td>\n",
       "    </tr>\n",
       "    <tr>\n",
       "      <th>1</th>\n",
       "      <td>Bharathi</td>\n",
       "      <td>Mother</td>\n",
       "      <td>1984</td>\n",
       "      <td>39</td>\n",
       "    </tr>\n",
       "    <tr>\n",
       "      <th>2</th>\n",
       "      <td>Alahari</td>\n",
       "      <td>Son</td>\n",
       "      <td>2013</td>\n",
       "      <td>10</td>\n",
       "    </tr>\n",
       "    <tr>\n",
       "      <th>3</th>\n",
       "      <td>Sujith</td>\n",
       "      <td>Son</td>\n",
       "      <td>2016</td>\n",
       "      <td>7</td>\n",
       "    </tr>\n",
       "  </tbody>\n",
       "</table>\n",
       "</div>"
      ],
      "text/plain": [
       "       Name  Status  Birthyear  age\n",
       "0    Suresh  Father       1976   47\n",
       "1  Bharathi  Mother       1984   39\n",
       "2   Alahari     Son       2013   10\n",
       "3    Sujith     Son       2016    7"
      ]
     },
     "execution_count": 10,
     "metadata": {},
     "output_type": "execute_result"
    }
   ],
   "source": [
    "df['age'] = df['Birthyear'].apply(lambda x: 2023-x)\n",
    "df"
   ]
  },
  {
   "cell_type": "markdown",
   "id": "0f0fe9db",
   "metadata": {},
   "source": [
    "### Q 5. How does the concept of \"scope\" apply to functions in Python? Explain the difference between local scope and global scope."
   ]
  },
  {
   "cell_type": "markdown",
   "id": "6f9e0988",
   "metadata": {},
   "source": [
    "When a variable is created inside a function it belongs to the local scope of that function, and can only be used inside that function.<br>\n",
    " <br>\n",
    " \n",
    " | Local Scope | Gloabl Scope |\n",
    " | --- | --- |\n",
    " | when a varible is created inside a function it's local variable with local scope | when a varible is created outside a function it's global variable with global scope |\n",
    " | They are only limited to the function created when function starts and lost when function ends | They are carried out for the whole program it starts its execution when the program starts and ends when program ends. |\n",
    " | a local scoped variable can be accessed only inside a function | a gloabl scoped variable can be accessed throughout the code |\n",
    " | It doesn’t offers Data Sharing | Offers Data Sharing |\n",
    " | Parameter passing is necessary | Parameter passing is not necessary |"
   ]
  },
  {
   "cell_type": "code",
   "execution_count": 11,
   "id": "c5ceb5a2",
   "metadata": {
    "ExecuteTime": {
     "end_time": "2023-06-15T04:10:16.914692Z",
     "start_time": "2023-06-15T04:10:16.899721Z"
    }
   },
   "outputs": [
    {
     "name": "stdout",
     "output_type": "stream",
     "text": [
      "Printing locally scoped variable :  5\n"
     ]
    }
   ],
   "source": [
    "# Local Scope\n",
    "def sum(x,y): #locally scoped variable\n",
    "    sum = x + y\n",
    "    print(\"Printing locally scoped variable : \", sum)\n",
    "sum(2, 3)"
   ]
  },
  {
   "cell_type": "code",
   "execution_count": 34,
   "id": "81f890e2",
   "metadata": {
    "ExecuteTime": {
     "end_time": "2023-06-15T04:10:02.533077Z",
     "start_time": "2023-06-15T04:10:02.514078Z"
    }
   },
   "outputs": [
    {
     "name": "stdout",
     "output_type": "stream",
     "text": [
      "Gloablly Scoped Variable :  25\n"
     ]
    }
   ],
   "source": [
    "# Global Scope\n",
    "z = 25 #gloablly scoped variable\n",
    "def func():\n",
    "    global z\n",
    "    print(\"Gloablly Scoped Variable : \", z)\n",
    "func()"
   ]
  },
  {
   "cell_type": "markdown",
   "id": "946dacbd",
   "metadata": {},
   "source": [
    "### Q6. How can you use the \"return\" statement in a Python function to return multiple values?"
   ]
  },
  {
   "cell_type": "markdown",
   "id": "7b7af24f",
   "metadata": {},
   "source": [
    "<br>\n",
    "Return statement in python can return multiple values just by seperating them with commas in the return statement."
   ]
  },
  {
   "cell_type": "code",
   "execution_count": 12,
   "id": "de09d042",
   "metadata": {
    "ExecuteTime": {
     "end_time": "2023-06-15T04:12:00.293094Z",
     "start_time": "2023-06-15T04:12:00.275106Z"
    }
   },
   "outputs": [
    {
     "data": {
      "text/plain": [
       "('abc', 23)"
      ]
     },
     "execution_count": 12,
     "metadata": {},
     "output_type": "execute_result"
    }
   ],
   "source": [
    "def test():\n",
    "    return 'abc', 23 # return statement with multiple values\n",
    "test()"
   ]
  },
  {
   "cell_type": "markdown",
   "id": "e2adf37f",
   "metadata": {},
   "source": [
    "### Q7. What is the difference between the \"pass by value\" and \"pass by reference\" concepts when it comes to function arguments in Python?"
   ]
  },
  {
   "cell_type": "markdown",
   "id": "e607a5bc",
   "metadata": {},
   "source": [
    "| pass by value | pass by reference |\n",
    "|---|---|\n",
    "|Pass by value means that a copy of the actual parameter’s value | Pass by reference means to pass the reference of an argument in the calling function to the corresponding formal parameter |\n",
    "| Value is made in memory |  Copy of the address of the actual parameter is made in memory |\n",
    "| If the callee modifies the parameter value, the effect is not visible to the caller. |  The caller and the callee use the same variable for the parameter. If the callee modifies the parameter variable, the effect is visible to the caller’s variable.|"
   ]
  },
  {
   "cell_type": "code",
   "execution_count": 13,
   "id": "ae2d0396",
   "metadata": {
    "ExecuteTime": {
     "end_time": "2023-06-15T05:39:00.250424Z",
     "start_time": "2023-06-15T05:39:00.235427Z"
    }
   },
   "outputs": [
    {
     "name": "stdout",
     "output_type": "stream",
     "text": [
      "34\n",
      "23\n"
     ]
    }
   ],
   "source": [
    "#pass by value\n",
    "#We are passing the value of x in the function and outside the function. So, the value of the x changes for the function but after function it's same as assigned\n",
    "def pass_by_val(x):\n",
    "    x = 34\n",
    "    print(x)\n",
    "    return\n",
    "x = 23\n",
    "pass_by_val(x)\n",
    "print(x)"
   ]
  },
  {
   "cell_type": "code",
   "execution_count": 14,
   "id": "67bf5fc1",
   "metadata": {
    "ExecuteTime": {
     "end_time": "2023-06-15T05:43:43.991257Z",
     "start_time": "2023-06-15T05:43:43.976257Z"
    }
   },
   "outputs": [
    {
     "name": "stdout",
     "output_type": "stream",
     "text": [
      "[12, 2, 3, 4, 5]\n",
      "[12, 2, 3, 4, 5]\n"
     ]
    }
   ],
   "source": [
    "#when the list is passed in this function we actually pass the list inside and that gets modified in the function and then shows the same values when printed again\n",
    "a = [1, 2, 3, 4,5]\n",
    "def pass_by_ref(x):\n",
    "    x[0] = 12\n",
    "    print(x)\n",
    "    return\n",
    "pass_by_ref(a)\n",
    "print(a)"
   ]
  },
  {
   "cell_type": "markdown",
   "id": "2e89ead3",
   "metadata": {},
   "source": [
    "### Q 8. Create a function that can intake integer or decimal value and do following operations:\n",
    "<br>a. Logarithmic function (log x)\n",
    "<br>b. Exponential function (exp(x))\n",
    "<br>c. Power function with base 2(2^x)\n",
    "<br>d. Square root"
   ]
  },
  {
   "cell_type": "code",
   "execution_count": 15,
   "id": "42af9b75",
   "metadata": {
    "ExecuteTime": {
     "end_time": "2023-06-15T15:42:25.897220Z",
     "start_time": "2023-06-15T15:42:24.245698Z"
    }
   },
   "outputs": [
    {
     "name": "stdout",
     "output_type": "stream",
     "text": [
      "Enter Number for evaluation : 23\n",
      "Logarithmic function (log x) value here is :  3.1354942159291497\n",
      "Exponential function (exp(x)) value here is :  9744803446.248903\n",
      "Power function with base 2(2^x) value here is :  16777216\n",
      "Square root value here is :  4.795831523312719\n"
     ]
    }
   ],
   "source": [
    "import math\n",
    "\n",
    "def func(x):\n",
    "    print(\"Logarithmic function (log x) value here is : \", math.log(x))\n",
    "    print(\"Exponential function (exp(x)) value here is : \", math.exp(x))\n",
    "    print(\"Power function with base 2(2^x) value here is : \", 2*2**x)\n",
    "    print(\"Square root value here is : \", math.sqrt(x))\n",
    "    \n",
    "func(int(input(\"Enter Number for evaluation : \")))"
   ]
  },
  {
   "cell_type": "markdown",
   "id": "1cb2d22a",
   "metadata": {},
   "source": [
    "### Q 9. Create a function that takes a full name as an argument and returns first name and last name."
   ]
  },
  {
   "cell_type": "markdown",
   "id": "650decb8",
   "metadata": {},
   "source": [
    "I have used Split function over here and it is used the first word and last word to return the first and last name."
   ]
  },
  {
   "cell_type": "code",
   "execution_count": 16,
   "id": "71d14062",
   "metadata": {
    "ExecuteTime": {
     "end_time": "2023-06-15T07:11:49.204301Z",
     "start_time": "2023-06-15T07:11:44.217022Z"
    }
   },
   "outputs": [
    {
     "name": "stdout",
     "output_type": "stream",
     "text": [
      "Enter Full Name : Alahari Adheera\n",
      "Alahari Adheera\n"
     ]
    }
   ],
   "source": [
    "def name(n):\n",
    "    a = n.split()\n",
    "    print(a[0], a[-1])\n",
    "name(input(\"Enter Full Name : \"))"
   ]
  },
  {
   "cell_type": "code",
   "execution_count": null,
   "id": "b74fd102",
   "metadata": {},
   "outputs": [],
   "source": []
  }
 ],
 "metadata": {
  "kernelspec": {
   "display_name": "Python 3 (ipykernel)",
   "language": "python",
   "name": "python3"
  },
  "language_info": {
   "codemirror_mode": {
    "name": "ipython",
    "version": 3
   },
   "file_extension": ".py",
   "mimetype": "text/x-python",
   "name": "python",
   "nbconvert_exporter": "python",
   "pygments_lexer": "ipython3",
   "version": "3.9.16"
  },
  "varInspector": {
   "cols": {
    "lenName": 16,
    "lenType": 16,
    "lenVar": 40
   },
   "kernels_config": {
    "python": {
     "delete_cmd_postfix": "",
     "delete_cmd_prefix": "del ",
     "library": "var_list.py",
     "varRefreshCmd": "print(var_dic_list())"
    },
    "r": {
     "delete_cmd_postfix": ") ",
     "delete_cmd_prefix": "rm(",
     "library": "var_list.r",
     "varRefreshCmd": "cat(var_dic_list()) "
    }
   },
   "types_to_exclude": [
    "module",
    "function",
    "builtin_function_or_method",
    "instance",
    "_Feature"
   ],
   "window_display": false
  }
 },
 "nbformat": 4,
 "nbformat_minor": 5
}
