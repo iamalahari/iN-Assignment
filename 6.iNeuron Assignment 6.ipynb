{
 "cells": [
  {
   "cell_type": "markdown",
   "id": "26b3e437",
   "metadata": {},
   "source": [
    "# iNeuron Assignment 6"
   ]
  },
  {
   "cell_type": "markdown",
   "id": "1664d686",
   "metadata": {},
   "source": [
    "## Q.1. What are keywords in python? Using the keyword library, print all the python keywords."
   ]
  },
  {
   "cell_type": "markdown",
   "id": "e1451787",
   "metadata": {},
   "source": [
    "In Python, keywords are reserved words that cannot be used as ordinary identifiers. They are used to define the syntax and structure of the Python language."
   ]
  },
  {
   "cell_type": "code",
   "execution_count": 2,
   "id": "37c98674",
   "metadata": {},
   "outputs": [
    {
     "name": "stdout",
     "output_type": "stream",
     "text": [
      "['False', 'None', 'True', '__peg_parser__', 'and', 'as', 'assert', 'async', 'await', 'break', 'class', 'continue', 'def', 'del', 'elif', 'else', 'except', 'finally', 'for', 'from', 'global', 'if', 'import', 'in', 'is', 'lambda', 'nonlocal', 'not', 'or', 'pass', 'raise', 'return', 'try', 'while', 'with', 'yield']\n"
     ]
    }
   ],
   "source": [
    "import keyword # Importing package\n",
    "\n",
    "print(keyword.kwlist)   # Display keywords"
   ]
  },
  {
   "cell_type": "code",
   "execution_count": null,
   "id": "c56f99eb",
   "metadata": {},
   "outputs": [],
   "source": []
  },
  {
   "cell_type": "markdown",
   "id": "0894b893",
   "metadata": {},
   "source": [
    "## Q.2. What are the rules to create variables in python?"
   ]
  },
  {
   "cell_type": "markdown",
   "id": "abe9b71e",
   "metadata": {},
   "source": [
    "1.A variable name must start with a letter or the underscore character.\n",
    "2.A variable name cannot start with a number.\n",
    "3.A variable name can only contain alpha-numeric characters and underscores (A-Z,a-z, 0-9, and _ ).\n",
    "4.Variable names are case-sensitive (ineuron, iNeuron and INEURON are three different variables)."
   ]
  },
  {
   "cell_type": "code",
   "execution_count": null,
   "id": "2ea4cc33",
   "metadata": {},
   "outputs": [],
   "source": []
  },
  {
   "cell_type": "markdown",
   "id": "cc6ed13f",
   "metadata": {},
   "source": [
    "## Q.3. What are the standards and conventions followed for the nomenclature of variables in python to improve code readability and maintainability?"
   ]
  },
  {
   "cell_type": "markdown",
   "id": "7d953bbf",
   "metadata": {},
   "source": [
    "1.Use a lowercase single letter, word, or words. Separate words with underscores to improve readability.\n",
    "2.Use descriptive names that describe the purpose of the variable in the code.\n",
    "3.Use camelCase for naming classes, functions, methods, and instances. Local variables should be named using camel case lettering starting with small letter (e.g. localData) whereas Global variables names should start with a capital letter (e.g. GlobalData)"
   ]
  },
  {
   "cell_type": "code",
   "execution_count": null,
   "id": "3301888c",
   "metadata": {},
   "outputs": [],
   "source": []
  },
  {
   "cell_type": "markdown",
   "id": "91d3b2b0",
   "metadata": {},
   "source": [
    "## Q.4. What will happen if a keyword is used as a variable name?"
   ]
  },
  {
   "cell_type": "markdown",
   "id": "3a661bb3",
   "metadata": {},
   "source": [
    "If Keyword is used as a variable name then python interpreter will throws an syntax error."
   ]
  },
  {
   "cell_type": "code",
   "execution_count": 3,
   "id": "9aa0bf0b",
   "metadata": {},
   "outputs": [
    {
     "ename": "SyntaxError",
     "evalue": "invalid syntax (3290263277.py, line 1)",
     "output_type": "error",
     "traceback": [
      "\u001b[1;36m  Cell \u001b[1;32mIn[3], line 1\u001b[1;36m\u001b[0m\n\u001b[1;33m    def = 14\u001b[0m\n\u001b[1;37m        ^\u001b[0m\n\u001b[1;31mSyntaxError\u001b[0m\u001b[1;31m:\u001b[0m invalid syntax\n"
     ]
    }
   ],
   "source": [
    "def = 14\n",
    "type(def)"
   ]
  },
  {
   "cell_type": "code",
   "execution_count": null,
   "id": "137f6fc8",
   "metadata": {},
   "outputs": [],
   "source": []
  },
  {
   "cell_type": "markdown",
   "id": "f0e8819c",
   "metadata": {},
   "source": [
    "## Q.5. For what purpose def keyword is used?"
   ]
  },
  {
   "cell_type": "markdown",
   "id": "587cbc92",
   "metadata": {},
   "source": [
    "The def keyword is used to define a user defined functions."
   ]
  },
  {
   "cell_type": "code",
   "execution_count": 4,
   "id": "21a22646",
   "metadata": {},
   "outputs": [
    {
     "name": "stdout",
     "output_type": "stream",
     "text": [
      "12\n"
     ]
    }
   ],
   "source": [
    "def add(a,b):\n",
    "    return a+b\n",
    "\n",
    "print(add(5,7))"
   ]
  },
  {
   "cell_type": "code",
   "execution_count": null,
   "id": "d5842503",
   "metadata": {},
   "outputs": [],
   "source": []
  },
  {
   "cell_type": "markdown",
   "id": "a5181eeb",
   "metadata": {},
   "source": [
    "## Q.6. What is the operation of this special character ‘\\’?"
   ]
  },
  {
   "cell_type": "markdown",
   "id": "2f8ac4ea",
   "metadata": {},
   "source": [
    "In Python strings, the backslash \"\\\" is a special(escape) character. \n",
    "It is used in representing certain whitespace characters:\n",
    "1.\"\\\" is newline when alone, \"\\t\" is a tab, \n",
    "2.\"\\n\" is a newline, and \n",
    "3.\"\\r\" is a carriage return."
   ]
  },
  {
   "cell_type": "code",
   "execution_count": null,
   "id": "6b01172b",
   "metadata": {},
   "outputs": [],
   "source": []
  },
  {
   "cell_type": "markdown",
   "id": "8e37ac47",
   "metadata": {},
   "source": [
    "## Q.7. Give an example of the following conditions:\n",
    "(i) Homogeneous list\n",
    "(ii) Heterogeneous set\n",
    "(iii) Homogeneous tuple"
   ]
  },
  {
   "cell_type": "code",
   "execution_count": 5,
   "id": "e8dbf57a",
   "metadata": {},
   "outputs": [
    {
     "name": "stdout",
     "output_type": "stream",
     "text": [
      "['Telugu', 'Tamil', 'Hindi', 'Kannada', 'Malayalam', 'Marathi', 'English']\n"
     ]
    }
   ],
   "source": [
    "# Homogenous List\n",
    "languages = [\"Telugu\", \"Tamil\", \"Hindi\", \"Kannada\", \"Malayalam\",\"Marathi\",\"English\"]\n",
    "print(languages)"
   ]
  },
  {
   "cell_type": "code",
   "execution_count": 6,
   "id": "3a10bcfd",
   "metadata": {},
   "outputs": [
    {
     "name": "stdout",
     "output_type": "stream",
     "text": [
      "[1, 'Alahari', 23.3, [5, 7, 3], 'Shiva']\n"
     ]
    }
   ],
   "source": [
    "# Heterogenous Set\n",
    "hetro = [1, \"Alahari\", 23.3, [5, 7, 3],'Shiva']\n",
    "print(hetro)"
   ]
  },
  {
   "cell_type": "code",
   "execution_count": 8,
   "id": "6b98022b",
   "metadata": {},
   "outputs": [
    {
     "name": "stdout",
     "output_type": "stream",
     "text": [
      "(1, 2, 3, 4, 5, 6, 7)\n"
     ]
    }
   ],
   "source": [
    "# Homogeneous tuple\n",
    "tup = (1, 2, 3, 4, 5,6,7)\n",
    "print(tup)"
   ]
  },
  {
   "cell_type": "code",
   "execution_count": null,
   "id": "d8adb603",
   "metadata": {},
   "outputs": [],
   "source": []
  },
  {
   "cell_type": "markdown",
   "id": "14e17000",
   "metadata": {},
   "source": [
    "## Q.8. Explain the mutable and immutable data types with proper explanation & examples."
   ]
  },
  {
   "cell_type": "markdown",
   "id": "6347d940",
   "metadata": {},
   "source": [
    "Mutable data types: The data types whose values can be changed are called mutable data types.The term \"mutable\" in Python refers to an object's capacity to modify its values.\n",
    "\n",
    "Mutable data types are list, set, dictionary."
   ]
  },
  {
   "cell_type": "code",
   "execution_count": 11,
   "id": "c43991e4",
   "metadata": {},
   "outputs": [
    {
     "name": "stdout",
     "output_type": "stream",
     "text": [
      "[23, 2, 3, 4, 5]\n"
     ]
    }
   ],
   "source": [
    "l = [1, 2, 3, 4, 5]\n",
    "l[0] = 23\n",
    "print(l) "
   ]
  },
  {
   "cell_type": "code",
   "execution_count": 12,
   "id": "1571ffd6",
   "metadata": {},
   "outputs": [
    {
     "name": "stdout",
     "output_type": "stream",
     "text": [
      "{1, 2, 3, 4, 5, 7}\n"
     ]
    }
   ],
   "source": [
    "s = {1, 2, 3, 4, 5}\n",
    "s.add(7)\n",
    "print(s) "
   ]
  },
  {
   "cell_type": "code",
   "execution_count": 13,
   "id": "306da5e5",
   "metadata": {},
   "outputs": [
    {
     "name": "stdout",
     "output_type": "stream",
     "text": [
      "{'a': 1, 'b': 2, 'c': 3, 'd': 4}\n"
     ]
    }
   ],
   "source": [
    "d = {'a': 1, 'b': 2, 'c': 3}\n",
    "d['d'] = 4\n",
    "print(d) "
   ]
  },
  {
   "cell_type": "markdown",
   "id": "67a0079c",
   "metadata": {},
   "source": [
    "Immutable data types: The data types whose values cannot be changed are called immutable data types.\n",
    "A Python object is referred to as immutable if we cannot change its value over time. e.g tuple"
   ]
  },
  {
   "cell_type": "code",
   "execution_count": 15,
   "id": "1909a3d6",
   "metadata": {},
   "outputs": [
    {
     "ename": "TypeError",
     "evalue": "'tuple' object does not support item assignment",
     "output_type": "error",
     "traceback": [
      "\u001b[1;31m---------------------------------------------------------------------------\u001b[0m",
      "\u001b[1;31mTypeError\u001b[0m                                 Traceback (most recent call last)",
      "Cell \u001b[1;32mIn[15], line 2\u001b[0m\n\u001b[0;32m      1\u001b[0m tuple1 \u001b[38;5;241m=\u001b[39m (\u001b[38;5;241m1\u001b[39m, \u001b[38;5;241m2\u001b[39m, \u001b[38;5;241m3\u001b[39m, \u001b[38;5;241m4\u001b[39m, \u001b[38;5;241m5\u001b[39m)\n\u001b[1;32m----> 2\u001b[0m tuple1[\u001b[38;5;241m0\u001b[39m] \u001b[38;5;241m=\u001b[39m \u001b[38;5;241m13\u001b[39m\n",
      "\u001b[1;31mTypeError\u001b[0m: 'tuple' object does not support item assignment"
     ]
    }
   ],
   "source": [
    "tuple1 = (1, 2, 3, 4, 5)\n",
    "tuple1[0] = 13 # This will throw an error because tuple is immutable"
   ]
  },
  {
   "cell_type": "markdown",
   "id": "eb33cdda",
   "metadata": {},
   "source": [
    "## Q.9. Write a code to create the given structure using only for loop."
   ]
  },
  {
   "cell_type": "markdown",
   "id": "cea1b4ff",
   "metadata": {},
   "source": [
    "    *\n",
    "   ***\n",
    "  *****\n",
    " *******\n",
    "*********"
   ]
  },
  {
   "cell_type": "code",
   "execution_count": 25,
   "id": "27aae609",
   "metadata": {},
   "outputs": [
    {
     "name": "stdout",
     "output_type": "stream",
     "text": [
      "    *\n",
      "   ***\n",
      "  *****\n",
      " *******\n",
      "*********\n"
     ]
    }
   ],
   "source": [
    "n = 5\n",
    "for i in range(1, n+1):\n",
    "    for j in range(n - i):\n",
    "        print(' ', end='')\n",
    "    for k in range(2 * i - 1):\n",
    "        print('*', end='')\n",
    "    print()"
   ]
  },
  {
   "cell_type": "code",
   "execution_count": null,
   "id": "c50af2f1",
   "metadata": {},
   "outputs": [],
   "source": []
  },
  {
   "cell_type": "markdown",
   "id": "b8436288",
   "metadata": {},
   "source": [
    "## Q.10. Write a code to create the given structure using while loop."
   ]
  },
  {
   "cell_type": "markdown",
   "id": "450e5025",
   "metadata": {},
   "source": [
    "|||||||||\n",
    " |||||||\n",
    "  |||||\n",
    "   |||\n",
    "    |"
   ]
  },
  {
   "cell_type": "code",
   "execution_count": 26,
   "id": "439c2a5e",
   "metadata": {},
   "outputs": [
    {
     "name": "stdout",
     "output_type": "stream",
     "text": [
      "|||||||||\n",
      " |||||||\n",
      "  |||||\n",
      "   |||\n",
      "    |\n"
     ]
    }
   ],
   "source": [
    "n = 5\n",
    "for i in range(1, n+1):\n",
    "   \n",
    "    for j in range(i-1):\n",
    "        print(' ', end='')\n",
    "    \n",
    "    for j in range(2*(n-i)+1):\n",
    "        print('|', end='')\n",
    "    print()"
   ]
  }
 ],
 "metadata": {
  "kernelspec": {
   "display_name": "Python 3 (ipykernel)",
   "language": "python",
   "name": "python3"
  },
  "language_info": {
   "codemirror_mode": {
    "name": "ipython",
    "version": 3
   },
   "file_extension": ".py",
   "mimetype": "text/x-python",
   "name": "python",
   "nbconvert_exporter": "python",
   "pygments_lexer": "ipython3",
   "version": "3.9.16"
  }
 },
 "nbformat": 4,
 "nbformat_minor": 5
}
